{
 "cells": [
  {
   "cell_type": "code",
   "execution_count": 1,
   "id": "90da32c9-deed-4630-8286-b0457b7e825c",
   "metadata": {},
   "outputs": [],
   "source": [
    "import re\n",
    "import os\n",
    "import matplotlib.pyplot as plt\n",
    "import pandas as pd\n",
    "import os\n",
    "import seaborn as sns"
   ]
  },
  {
   "cell_type": "code",
   "execution_count": 2,
   "id": "82488978-1f54-4463-bccd-bffc36f4e50a",
   "metadata": {},
   "outputs": [],
   "source": [
    "sn_df = pd.read_csv(\"Social_Networks_data.csv\")\n",
    "ns_df = pd.read_csv(\"Network_Science_data.csv\")\n",
    "jcn_df = pd.read_csv(\"Journal_of_Complex_Networks_data.csv\")"
   ]
  },
  {
   "cell_type": "code",
   "execution_count": 3,
   "id": "d8c603c9-e267-4172-b1df-417ccca45d1b",
   "metadata": {},
   "outputs": [
    {
     "data": {
      "text/plain": [
       "Index(['Document Type', 'Authors', 'Title', 'Journal', 'Year', 'Citations',\n",
       "       'Keywords', 'DOI', 'Affiliations', 'References'],\n",
       "      dtype='object')"
      ]
     },
     "execution_count": 3,
     "metadata": {},
     "output_type": "execute_result"
    }
   ],
   "source": [
    "sn_df.columns"
   ]
  },
  {
   "cell_type": "code",
   "execution_count": 4,
   "id": "45745883-028f-4594-837b-fe4baea9b706",
   "metadata": {},
   "outputs": [],
   "source": [
    "sn_df = pd.read_csv(\"Social_Networks_data.csv\")\n",
    "drop_index = []\n",
    "for index,row in sn_df.iterrows():\n",
    "    if len(eval(row.iloc[1])) == 0:\n",
    "        drop_index.append(index)\n",
    "        continue\n",
    "    sn_df.iloc[index, 1] = eval(row.loc[\"Authors\"])[0]\n",
    "sn_df.drop(drop_index, axis=0, inplace=True)\n",
    "sn_df.reset_index(drop=True, inplace=True)"
   ]
  },
  {
   "cell_type": "code",
   "execution_count": 5,
   "id": "643fdc72-378c-43e4-ae3a-4ebecfca9853",
   "metadata": {},
   "outputs": [],
   "source": [
    "# Function to calculate bibliometric metrics\n",
    "def calculate_metrics(df, journal_name):\n",
    "    # Ensure Citations column is numeric\n",
    "    df['Citations'] = pd.to_numeric(df['Citations'], errors='coerce').fillna(0).astype(int)\n",
    "\n",
    "    # **1. Number of Cited Publications (NCP)**\n",
    "    NCP = (df['Citations'] > 0).sum()\n",
    "\n",
    "    # **2. Proportion of Cited Publications (PCP)**\n",
    "    PCP = round(NCP / len(df), 4) if len(df) > 0 else 0\n",
    "\n",
    "    # **3. Citations per Cited Publication (CCP)**\n",
    "    CCP = round(df[df['Citations'] > 0]['Citations'].mean(), 2) if NCP > 0 else 0\n",
    "\n",
    "    # **4. h-index**\n",
    "    def h_index(citations):\n",
    "        citations_sorted = sorted(citations, reverse=True)\n",
    "        return sum(c >= i+1 for i, c in enumerate(citations_sorted))\n",
    "\n",
    "    h_index_value = h_index(df['Citations'])\n",
    "\n",
    "    # **5. g-index**\n",
    "    def g_index(citations):\n",
    "        citations_sorted = sorted(citations, reverse=True)\n",
    "        g = 0\n",
    "        while g < len(citations_sorted) and sum(citations_sorted[:g+1]) >= (g+1)**2:\n",
    "            g += 1\n",
    "        return g\n",
    "\n",
    "    g_index_value = g_index(df['Citations'])\n",
    "\n",
    "    # **6. i-index (i-10, i-100, i-200)**\n",
    "    i_10 = (df['Citations'] >= 10).sum()\n",
    "    i_100 = (df['Citations'] >= 100).sum()\n",
    "    i_200 = (df['Citations'] >= 200).sum()\n",
    "\n",
    "    # Store results in a dictionary\n",
    "    return {\n",
    "        \"Journal\": journal_name,\n",
    "        \"NCP\": NCP,\n",
    "        \"PCP\": PCP,\n",
    "        \"CCP\": CCP,\n",
    "        \"h-index\": h_index_value,\n",
    "        \"g-index\": g_index_value,\n",
    "        \"i-10 index\": i_10,\n",
    "        \"i-100 index\": i_100,\n",
    "        \"i-200 index\": i_200\n",
    "    }\n",
    "\n",
    "# Calculate metrics for each journal\n",
    "metrics_list = [\n",
    "    calculate_metrics(sn_df, \"Social Networks\"),\n",
    "    calculate_metrics(ns_df, \"Network Science\"),\n",
    "    calculate_metrics(jcn_df, \"Journal of Complex Networks\")\n",
    "]\n",
    "\n",
    "# Convert results to DataFrame\n",
    "metrics_df = pd.DataFrame(metrics_list)\n",
    "metrics_df.to_csv(\"Journal Metrics.csv\")\n"
   ]
  },
  {
   "cell_type": "code",
   "execution_count": 17,
   "id": "ab5ae7de-9314-421a-baef-e8ea7ac38b60",
   "metadata": {},
   "outputs": [
    {
     "name": "stdout",
     "output_type": "stream",
     "text": [
      "\\begin{tabular}{llrrrrrrrr}\n",
      "\\toprule\n",
      " & Journal & NCP & PCP & CCP & h-index & g-index & i-10 index & i-100 index & i-200 index \\\\\n",
      "\\midrule\n",
      "0 & Social Networks & 1462 & 0.939000 & 64.510000 & 126 & 264 & 1004 & 170 & 69 \\\\\n",
      "1 & Network Science & 252 & 0.834400 & 14.680000 & 23 & 52 & 78 & 6 & 1 \\\\\n",
      "2 & Journal of Complex Networks & 431 & 0.786500 & 18.500000 & 34 & 78 & 138 & 10 & 5 \\\\\n",
      "\\bottomrule\n",
      "\\end{tabular}\n",
      "\n"
     ]
    }
   ],
   "source": [
    "print(metrics_df.to_latex())"
   ]
  }
 ],
 "metadata": {
  "kernelspec": {
   "display_name": "Python 3 (ipykernel)",
   "language": "python",
   "name": "python3"
  },
  "language_info": {
   "codemirror_mode": {
    "name": "ipython",
    "version": 3
   },
   "file_extension": ".py",
   "mimetype": "text/x-python",
   "name": "python",
   "nbconvert_exporter": "python",
   "pygments_lexer": "ipython3",
   "version": "3.12.3"
  }
 },
 "nbformat": 4,
 "nbformat_minor": 5
}
