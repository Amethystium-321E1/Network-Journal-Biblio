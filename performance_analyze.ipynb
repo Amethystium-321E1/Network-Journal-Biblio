{
 "cells": [
  {
   "cell_type": "code",
   "execution_count": 1,
   "id": "364a82a6-21f3-4a04-a422-ca75a8cb074f",
   "metadata": {},
   "outputs": [],
   "source": [
    "import os\n",
    "import pandas as pd\n",
    "import matplotlib.pyplot as plt\n",
    "import numpy as np\n",
    "import seaborn as sns\n",
    "import networkx as nx"
   ]
  },
  {
   "cell_type": "code",
   "execution_count": 2,
   "id": "31d53a20-54b7-4ac9-b4b0-b389b3bc2ae5",
   "metadata": {},
   "outputs": [
    {
     "name": "stdout",
     "output_type": "stream",
     "text": [
      "Loaded 7 cleaned and sorted files from Social Networks\n",
      "Loaded 7 cleaned and sorted files from Network Science\n",
      "Loaded 7 cleaned and sorted files from Journal of Complex Networks\n"
     ]
    }
   ],
   "source": [
    "# Function to load, clean, sort, and reset index\n",
    "def load_and_clean_data(path):\n",
    "    data_dict = {}\n",
    "    for file in os.listdir(path):\n",
    "        if file.endswith(\".txt\"):\n",
    "            name = file[:-4]  # Extract filename without extension\n",
    "            df = pd.read_csv(os.path.join(path, file), sep=\"\\t\")  # Load data\n",
    "            df = df.dropna().reset_index(drop=True)  # Remove empty values & reset index\n",
    "            \n",
    "            # Check if \"Record Count\" exists, convert to numeric, and sort descending\n",
    "            if \"   Record Count\" in df.columns:\n",
    "                df[\"   Record Count\"] = pd.to_numeric(df[\"   Record Count\"], errors=\"coerce\")  # Ensure numeric sorting\n",
    "                df = df.sort_values(by=\"   Record Count\", ascending=False).reset_index(drop=True)\n",
    "                \n",
    "            # Rename columns to maintain consistency\n",
    "            df.columns = [name, \"Record Count\", \"Percent\"]\n",
    "            \n",
    "            data_dict[name] = df  # Store cleaned DataFrame in dictionary\n",
    "    return data_dict\n",
    "\n",
    "# Paths to datasets\n",
    "SN_path = \"Social Networks/WOS data/Analyze/txt/\"\n",
    "NS_path = \"Network Science/WOS data/Analyze/txt/\"\n",
    "JCN_path = \"Journal of Complex Networks/WOS data/Analyze/txt/\"\n",
    "image_path = \"images_jupyter/\"\n",
    "\n",
    "# Load, clean, and sort data for each journal\n",
    "sn_dict = load_and_clean_data(SN_path)\n",
    "ns_dict = load_and_clean_data(NS_path)\n",
    "jcn_dict = load_and_clean_data(JCN_path)\n",
    "\n",
    "# Print confirmation\n",
    "print(f\"Loaded {len(sn_dict)} cleaned and sorted files from Social Networks\")\n",
    "print(f\"Loaded {len(ns_dict)} cleaned and sorted files from Network Science\")\n",
    "print(f\"Loaded {len(jcn_dict)} cleaned and sorted files from Journal of Complex Networks\")"
   ]
  },
  {
   "cell_type": "code",
   "execution_count": 16,
   "id": "5ff16411-6ba8-4d1e-b1b9-be312a48d413",
   "metadata": {},
   "outputs": [
    {
     "data": {
      "text/plain": [
       "dict_keys(['Affiliations', 'Authors', 'Countries Regions', 'Document Types', 'Funding Agencies', 'Publication Years', 'Sustainable Development Goals'])"
      ]
     },
     "execution_count": 16,
     "metadata": {},
     "output_type": "execute_result"
    }
   ],
   "source": [
    "sn_dict.keys()"
   ]
  },
  {
   "cell_type": "code",
   "execution_count": 4,
   "id": "97e396a2-3b26-4e6d-8c51-61ba78438955",
   "metadata": {},
   "outputs": [
    {
     "data": {
      "text/html": [
       "<div>\n",
       "<style scoped>\n",
       "    .dataframe tbody tr th:only-of-type {\n",
       "        vertical-align: middle;\n",
       "    }\n",
       "\n",
       "    .dataframe tbody tr th {\n",
       "        vertical-align: top;\n",
       "    }\n",
       "\n",
       "    .dataframe thead th {\n",
       "        text-align: right;\n",
       "    }\n",
       "</style>\n",
       "<table border=\"1\" class=\"dataframe\">\n",
       "  <thead>\n",
       "    <tr style=\"text-align: right;\">\n",
       "      <th></th>\n",
       "      <th>Authors</th>\n",
       "      <th>Record Count</th>\n",
       "      <th>Percent</th>\n",
       "    </tr>\n",
       "  </thead>\n",
       "  <tbody>\n",
       "    <tr>\n",
       "      <th>0</th>\n",
       "      <td>Doreian P</td>\n",
       "      <td>36</td>\n",
       "      <td>2.312</td>\n",
       "    </tr>\n",
       "    <tr>\n",
       "      <th>1</th>\n",
       "      <td>Borgatti SP</td>\n",
       "      <td>35</td>\n",
       "      <td>2.248</td>\n",
       "    </tr>\n",
       "    <tr>\n",
       "      <th>2</th>\n",
       "      <td>Everett MG</td>\n",
       "      <td>34</td>\n",
       "      <td>2.184</td>\n",
       "    </tr>\n",
       "    <tr>\n",
       "      <th>3</th>\n",
       "      <td>Burt RS</td>\n",
       "      <td>29</td>\n",
       "      <td>1.863</td>\n",
       "    </tr>\n",
       "    <tr>\n",
       "      <th>4</th>\n",
       "      <td>Robins G</td>\n",
       "      <td>20</td>\n",
       "      <td>1.285</td>\n",
       "    </tr>\n",
       "  </tbody>\n",
       "</table>\n",
       "</div>"
      ],
      "text/plain": [
       "                                         Authors  Record Count  Percent\n",
       "0  Doreian P                                                36    2.312\n",
       "1  Borgatti SP                                              35    2.248\n",
       "2  Everett MG                                               34    2.184\n",
       "3  Burt RS                                                  29    1.863\n",
       "4  Robins G                                                 20    1.285"
      ]
     },
     "execution_count": 4,
     "metadata": {},
     "output_type": "execute_result"
    }
   ],
   "source": [
    "sn_dict[\"Authors\"].head()"
   ]
  },
  {
   "cell_type": "code",
   "execution_count": 5,
   "id": "205fb77b-8277-4ec7-bdfb-f226cdc3cf99",
   "metadata": {},
   "outputs": [
    {
     "data": {
      "text/html": [
       "<div>\n",
       "<style scoped>\n",
       "    .dataframe tbody tr th:only-of-type {\n",
       "        vertical-align: middle;\n",
       "    }\n",
       "\n",
       "    .dataframe tbody tr th {\n",
       "        vertical-align: top;\n",
       "    }\n",
       "\n",
       "    .dataframe thead th {\n",
       "        text-align: right;\n",
       "    }\n",
       "</style>\n",
       "<table border=\"1\" class=\"dataframe\">\n",
       "  <thead>\n",
       "    <tr style=\"text-align: right;\">\n",
       "      <th></th>\n",
       "      <th>Authors</th>\n",
       "      <th>Record Count</th>\n",
       "      <th>Percent</th>\n",
       "    </tr>\n",
       "  </thead>\n",
       "  <tbody>\n",
       "    <tr>\n",
       "      <th>0</th>\n",
       "      <td>Doreian P</td>\n",
       "      <td>36</td>\n",
       "      <td>2.312</td>\n",
       "    </tr>\n",
       "    <tr>\n",
       "      <th>1</th>\n",
       "      <td>Borgatti SP</td>\n",
       "      <td>35</td>\n",
       "      <td>2.248</td>\n",
       "    </tr>\n",
       "    <tr>\n",
       "      <th>2</th>\n",
       "      <td>Everett MG</td>\n",
       "      <td>34</td>\n",
       "      <td>2.184</td>\n",
       "    </tr>\n",
       "    <tr>\n",
       "      <th>3</th>\n",
       "      <td>Burt RS</td>\n",
       "      <td>29</td>\n",
       "      <td>1.863</td>\n",
       "    </tr>\n",
       "    <tr>\n",
       "      <th>4</th>\n",
       "      <td>Robins G</td>\n",
       "      <td>20</td>\n",
       "      <td>1.285</td>\n",
       "    </tr>\n",
       "    <tr>\n",
       "      <th>...</th>\n",
       "      <td>...</td>\n",
       "      <td>...</td>\n",
       "      <td>...</td>\n",
       "    </tr>\n",
       "    <tr>\n",
       "      <th>2351</th>\n",
       "      <td>Gromov D</td>\n",
       "      <td>1</td>\n",
       "      <td>0.064</td>\n",
       "    </tr>\n",
       "    <tr>\n",
       "      <th>2352</th>\n",
       "      <td>Groenewegen PP</td>\n",
       "      <td>1</td>\n",
       "      <td>0.064</td>\n",
       "    </tr>\n",
       "    <tr>\n",
       "      <th>2353</th>\n",
       "      <td>Grippa F</td>\n",
       "      <td>1</td>\n",
       "      <td>0.064</td>\n",
       "    </tr>\n",
       "    <tr>\n",
       "      <th>2354</th>\n",
       "      <td>Grima M</td>\n",
       "      <td>1</td>\n",
       "      <td>0.064</td>\n",
       "    </tr>\n",
       "    <tr>\n",
       "      <th>2355</th>\n",
       "      <td>Ünal MC</td>\n",
       "      <td>1</td>\n",
       "      <td>0.064</td>\n",
       "    </tr>\n",
       "  </tbody>\n",
       "</table>\n",
       "<p>2356 rows × 3 columns</p>\n",
       "</div>"
      ],
      "text/plain": [
       "                                            Authors  Record Count  Percent\n",
       "0     Doreian P                                                36    2.312\n",
       "1     Borgatti SP                                              35    2.248\n",
       "2     Everett MG                                               34    2.184\n",
       "3     Burt RS                                                  29    1.863\n",
       "4     Robins G                                                 20    1.285\n",
       "...                                             ...           ...      ...\n",
       "2351  Gromov D                                                  1    0.064\n",
       "2352  Groenewegen PP                                            1    0.064\n",
       "2353  Grippa F                                                  1    0.064\n",
       "2354  Grima M                                                   1    0.064\n",
       "2355  Ünal MC                                                   1    0.064\n",
       "\n",
       "[2356 rows x 3 columns]"
      ]
     },
     "execution_count": 5,
     "metadata": {},
     "output_type": "execute_result"
    }
   ],
   "source": [
    "sn_dict[\"Authors\"]"
   ]
  },
  {
   "cell_type": "code",
   "execution_count": 6,
   "id": "a9457d86-4271-4d89-aee3-c46353603b91",
   "metadata": {},
   "outputs": [
    {
     "data": {
      "text/plain": [
       "'\\n# Extract top 30 authors and record counts for each journal\\nauthors_sn = sn_dict[\"Authors\"][\"Authors\"][:30].tolist()\\ncounts_sn = sn_dict[\"Authors\"][\"Record Count\"][:30].tolist()\\n\\nauthors_ns = ns_dict[\"Authors\"][\"Authors\"][:30].tolist()\\ncounts_ns = ns_dict[\"Authors\"][\"Record Count\"][:30].tolist()\\n\\nauthors_jcn = jcn_dict[\"Authors\"][\"Authors\"][:30].tolist()\\ncounts_jcn = jcn_dict[\"Authors\"][\"Record Count\"][:30].tolist()\\n\\n# Create a unified list of authors\\nall_authors = list(set(authors_sn + authors_ns + authors_jcn))\\n\\n# Initialize a dictionary to hold counts for each journal\\nauthor_counts = {author: [0, 0, 0] for author in all_authors}\\n\\n# Fill in the counts from each journal\\nfor author, count in zip(authors_sn, counts_sn):\\n    author_counts[author][0] += count\\n\\nfor author, count in zip(authors_ns, counts_ns):\\n    author_counts[author][1] += count\\n\\nfor author, count in zip(authors_jcn, counts_jcn):\\n    author_counts[author][2] += count\\n\\n# Prepare data for plotting\\nsorted_authors = sorted(author_counts.keys(), key=lambda x: sum(author_counts[x]), reverse=True)\\nsorted_counts = np.array([author_counts[author] for author in sorted_authors]).T\\n\\n# Plot the data\\nfig, ax = plt.subplots(figsize=(15, 8))\\ncolors = [\"skyblue\", \"orange\", \"green\"]\\nlabels = [\"Social Networks\", \"Network Science\", \"Journal of Complex Networks\"]\\nbottom = np.zeros(len(sorted_authors))\\n\\nfor i in range(3):\\n    ax.bar(sorted_authors, sorted_counts[i], bottom=bottom, color=colors[i], label=labels[i])\\n    bottom += sorted_counts[i]\\n\\nax.set_ylabel(\"Record Count\", fontsize=14)\\nax.set_xticks(range(len(sorted_authors)))\\nax.set_xticklabels(sorted_authors, rotation=90, ha=\\'right\\', fontsize=8)  # Adjusted font size for readability\\nax.tick_params(axis=\\'x\\', which=\\'major\\', pad=0)\\nax.legend(fontsize=20)\\nplt.tight_layout()\\nplt.savefig(\\'images_jupyter/Top 30 Authors by Publication Count Across Three Journals.pdf\\')\\nplt.show()\\n'"
      ]
     },
     "execution_count": 6,
     "metadata": {},
     "output_type": "execute_result"
    }
   ],
   "source": [
    "\n",
    "'''\n",
    "# Extract top 30 authors and record counts for each journal\n",
    "authors_sn = sn_dict[\"Authors\"][\"Authors\"][:30].tolist()\n",
    "counts_sn = sn_dict[\"Authors\"][\"Record Count\"][:30].tolist()\n",
    "\n",
    "authors_ns = ns_dict[\"Authors\"][\"Authors\"][:30].tolist()\n",
    "counts_ns = ns_dict[\"Authors\"][\"Record Count\"][:30].tolist()\n",
    "\n",
    "authors_jcn = jcn_dict[\"Authors\"][\"Authors\"][:30].tolist()\n",
    "counts_jcn = jcn_dict[\"Authors\"][\"Record Count\"][:30].tolist()\n",
    "\n",
    "# Create a unified list of authors\n",
    "all_authors = list(set(authors_sn + authors_ns + authors_jcn))\n",
    "\n",
    "# Initialize a dictionary to hold counts for each journal\n",
    "author_counts = {author: [0, 0, 0] for author in all_authors}\n",
    "\n",
    "# Fill in the counts from each journal\n",
    "for author, count in zip(authors_sn, counts_sn):\n",
    "    author_counts[author][0] += count\n",
    "\n",
    "for author, count in zip(authors_ns, counts_ns):\n",
    "    author_counts[author][1] += count\n",
    "\n",
    "for author, count in zip(authors_jcn, counts_jcn):\n",
    "    author_counts[author][2] += count\n",
    "\n",
    "# Prepare data for plotting\n",
    "sorted_authors = sorted(author_counts.keys(), key=lambda x: sum(author_counts[x]), reverse=True)\n",
    "sorted_counts = np.array([author_counts[author] for author in sorted_authors]).T\n",
    "\n",
    "# Plot the data\n",
    "fig, ax = plt.subplots(figsize=(15, 8))\n",
    "colors = [\"skyblue\", \"orange\", \"green\"]\n",
    "labels = [\"Social Networks\", \"Network Science\", \"Journal of Complex Networks\"]\n",
    "bottom = np.zeros(len(sorted_authors))\n",
    "\n",
    "for i in range(3):\n",
    "    ax.bar(sorted_authors, sorted_counts[i], bottom=bottom, color=colors[i], label=labels[i])\n",
    "    bottom += sorted_counts[i]\n",
    "\n",
    "ax.set_ylabel(\"Record Count\", fontsize=14)\n",
    "ax.set_xticks(range(len(sorted_authors)))\n",
    "ax.set_xticklabels(sorted_authors, rotation=90, ha='right', fontsize=8)  # Adjusted font size for readability\n",
    "ax.tick_params(axis='x', which='major', pad=0)\n",
    "ax.legend(fontsize=20)\n",
    "plt.tight_layout()\n",
    "plt.savefig('images_jupyter/Top 30 Authors by Publication Count Across Three Journals.pdf')\n",
    "plt.show()\n",
    "'''\n"
   ]
  },
  {
   "cell_type": "code",
   "execution_count": 7,
   "id": "9b6633b7-2e9e-4cd6-86e2-d9c4320ddab2",
   "metadata": {},
   "outputs": [
    {
     "data": {
      "text/plain": [
       "'\\n# sn_dict[\\'Publication Years\\'], ns_dict[\\'Publication Years\\'], jcn_dict[\\'Publication Years\\']\\n\\n# Example data extraction and preparation\\nyears_sn = sn_dict[\\'Publication Years\\'][\\'Publication Years\\'].tolist()\\ncount_sn = sn_dict[\\'Publication Years\\'][\\'Record Count\\'].tolist()\\n\\nyears_ns = ns_dict[\\'Publication Years\\'][\\'Publication Years\\'].tolist()\\ncount_ns = ns_dict[\\'Publication Years\\'][\\'Record Count\\'].tolist()\\n\\nyears_jcn = jcn_dict[\\'Publication Years\\'][\\'Publication Years\\'].tolist()\\ncount_jcn = jcn_dict[\\'Publication Years\\'][\\'Record Count\\'].tolist()\\n\\n# Convert lists to DataFrames\\ndf_sn = pd.DataFrame({\\'Publication Years\\': years_sn, \\'Count\\': count_sn, \\'Journal\\': \\'Social Networks\\'})\\ndf_ns = pd.DataFrame({\\'Publication Years\\': years_ns, \\'Count\\': count_ns, \\'Journal\\': \\'Network Science\\'})\\ndf_jcn = pd.DataFrame({\\'Publication Years\\': years_jcn, \\'Count\\': count_jcn, \\'Journal\\': \\'Journal of Complex Networks\\'})\\n\\n# Combine into a single DataFrame\\ndf_combined = pd.concat([df_sn, df_ns, df_jcn])\\n\\nsns.set_theme(style=\"white\", font=\\'Times New Roman\\')\\n\\n# Create a larger plot\\nplt.figure(figsize=(10, 6))\\n\\n# Plot using seaborn to handle grouping by \\'Journal\\' automatically\\nsns.lineplot(data=df_combined, x=\\'Publication Years\\', y=\\'Count\\', hue=\\'Journal\\', marker=\\'o\\')\\n\\n# Adding titles and labels\\nplt.xlabel(\\'Publication Years\\')\\nplt.ylabel(\\'Number of Publications\\')\\nplt.legend(title=\\'Journal\\')\\nplt.savefig(\"images_jupyter/Record Count Proportion.pdf\")\\n# Show the plot\\nplt.show()\\n'"
      ]
     },
     "execution_count": 7,
     "metadata": {},
     "output_type": "execute_result"
    }
   ],
   "source": [
    "'''\n",
    "# sn_dict['Publication Years'], ns_dict['Publication Years'], jcn_dict['Publication Years']\n",
    "\n",
    "# Example data extraction and preparation\n",
    "years_sn = sn_dict['Publication Years']['Publication Years'].tolist()\n",
    "count_sn = sn_dict['Publication Years']['Record Count'].tolist()\n",
    "\n",
    "years_ns = ns_dict['Publication Years']['Publication Years'].tolist()\n",
    "count_ns = ns_dict['Publication Years']['Record Count'].tolist()\n",
    "\n",
    "years_jcn = jcn_dict['Publication Years']['Publication Years'].tolist()\n",
    "count_jcn = jcn_dict['Publication Years']['Record Count'].tolist()\n",
    "\n",
    "# Convert lists to DataFrames\n",
    "df_sn = pd.DataFrame({'Publication Years': years_sn, 'Count': count_sn, 'Journal': 'Social Networks'})\n",
    "df_ns = pd.DataFrame({'Publication Years': years_ns, 'Count': count_ns, 'Journal': 'Network Science'})\n",
    "df_jcn = pd.DataFrame({'Publication Years': years_jcn, 'Count': count_jcn, 'Journal': 'Journal of Complex Networks'})\n",
    "\n",
    "# Combine into a single DataFrame\n",
    "df_combined = pd.concat([df_sn, df_ns, df_jcn])\n",
    "\n",
    "sns.set_theme(style=\"white\", font='Times New Roman')\n",
    "\n",
    "# Create a larger plot\n",
    "plt.figure(figsize=(10, 6))\n",
    "\n",
    "# Plot using seaborn to handle grouping by 'Journal' automatically\n",
    "sns.lineplot(data=df_combined, x='Publication Years', y='Count', hue='Journal', marker='o')\n",
    "\n",
    "# Adding titles and labels\n",
    "plt.xlabel('Publication Years')\n",
    "plt.ylabel('Number of Publications')\n",
    "plt.legend(title='Journal')\n",
    "plt.savefig(\"images_jupyter/Record Count Proportion.pdf\")\n",
    "# Show the plot\n",
    "plt.show()\n",
    "'''"
   ]
  },
  {
   "cell_type": "code",
   "execution_count": null,
   "id": "d7d49534-482d-451b-aabf-a9de201300c6",
   "metadata": {},
   "outputs": [],
   "source": []
  }
 ],
 "metadata": {
  "kernelspec": {
   "display_name": "Python 3 (ipykernel)",
   "language": "python",
   "name": "python3"
  },
  "language_info": {
   "codemirror_mode": {
    "name": "ipython",
    "version": 3
   },
   "file_extension": ".py",
   "mimetype": "text/x-python",
   "name": "python",
   "nbconvert_exporter": "python",
   "pygments_lexer": "ipython3",
   "version": "3.12.3"
  }
 },
 "nbformat": 4,
 "nbformat_minor": 5
}
