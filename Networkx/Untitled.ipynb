{
 "cells": [
  {
   "cell_type": "code",
   "execution_count": 1,
   "id": "25f2c3f8-d7d0-4698-9052-5afbfdefe285",
   "metadata": {},
   "outputs": [],
   "source": [
    "import os\n",
    "import networkx as nx\n",
    "import matplotlib.pyplot as plt\n",
    "import pandas as pd"
   ]
  },
  {
   "cell_type": "code",
   "execution_count": 2,
   "id": "c8c7e515-4b25-461d-86e1-14fd7f9675b2",
   "metadata": {},
   "outputs": [
    {
     "data": {
      "text/plain": [
       "{'name': 'Caimo A',\n",
       " 'label': 'Caimo A, 2013, SOC NETWORKS, V35, P11, DOI 10.1016/j.socnet.2012.10.003',\n",
       " 'author': 'Caimo A',\n",
       " 'year': '2013',\n",
       " 'title': '...',\n",
       " 'so': 'SOC NETWORKS',\n",
       " 'vol': '35',\n",
       " 'pg': '11',\n",
       " 'freq': 2}"
      ]
     },
     "execution_count": 2,
     "metadata": {},
     "output_type": "execute_result"
    }
   ],
   "source": [
    "sn = nx.read_graphml(\"SN/1637.graphml\")\n",
    "sn.nodes[\"0\"]"
   ]
  },
  {
   "cell_type": "code",
   "execution_count": 3,
   "id": "ad223305-2a20-4827-8dd0-ce2a5ba15617",
   "metadata": {},
   "outputs": [],
   "source": [
    "# Load the GraphML file\n",
    "sn = nx.read_graphml(\"SN/1637.graphml\")\n",
    "\n",
    "# Compute network statistics\n",
    "num_nodes = sn.number_of_nodes()\n",
    "num_edges = sn.number_of_edges()\n",
    "density = nx.density(sn)\n",
    "avg_degree = sum(dict(sn.degree()).values()) / num_nodes\n",
    "max_degree = max(dict(sn.degree()).values())\n",
    "min_degree = min(dict(sn.degree()).values())\n",
    "clustering_coeff = nx.average_clustering(sn.to_undirected())\n",
    "\n",
    "# Check if the graph is connected\n",
    "is_connected = nx.is_connected(sn.to_undirected())\n",
    "\n",
    "# Compute centrality measures\n",
    "degree_centrality = nx.degree_centrality(sn)\n",
    "betweenness_centrality = nx.betweenness_centrality(sn)\n",
    "closeness_centrality = nx.closeness_centrality(sn)\n",
    "eigenvector_centrality = nx.eigenvector_centrality(sn, max_iter=1000)\n",
    "\n",
    "# Extract node attributes\n",
    "labels = nx.get_node_attributes(sn, \"label\")\n",
    "\n",
    "# Create DataFrame\n",
    "metrics_df_sn = pd.DataFrame({\n",
    "    \"Label\": labels,  # Full citation information\n",
    "    \"Degree\": dict(sn.degree()),\n",
    "    \"Degree Centrality\": degree_centrality,\n",
    "    \"Betweenness Centrality\": betweenness_centrality,\n",
    "    \"Closeness Centrality\": closeness_centrality,\n",
    "    \"Eigenvector Centrality\": eigenvector_centrality\n",
    "})\n",
    "metrics_df_sn.to_csv(\"SN/SN_Centrality.csv\", index=False)\n"
   ]
  },
  {
   "cell_type": "code",
   "execution_count": 4,
   "id": "4b7ac0bc-27ea-4f28-8e84-4c5fcb4547a1",
   "metadata": {},
   "outputs": [],
   "source": [
    "# Load the GraphML file for Network Science\n",
    "ns = nx.read_graphml(\"NS/385.graphml\")\n",
    "\n",
    "# Compute network statistics\n",
    "num_nodes = ns.number_of_nodes()\n",
    "num_edges = ns.number_of_edges()\n",
    "density = nx.density(ns)\n",
    "avg_degree = sum(dict(ns.degree()).values()) / num_nodes\n",
    "max_degree = max(dict(ns.degree()).values())\n",
    "min_degree = min(dict(ns.degree()).values())\n",
    "clustering_coeff = nx.average_clustering(ns.to_undirected())\n",
    "\n",
    "# Check if the graph is connected\n",
    "is_connected = nx.is_connected(ns.to_undirected())\n",
    "\n",
    "# Compute centrality measures\n",
    "degree_centrality = nx.degree_centrality(ns)\n",
    "betweenness_centrality = nx.betweenness_centrality(ns)\n",
    "closeness_centrality = nx.closeness_centrality(ns)\n",
    "eigenvector_centrality = nx.eigenvector_centrality(ns, max_iter=1000)\n",
    "\n",
    "# Extract node attributes\n",
    "labels = nx.get_node_attributes(ns, \"label\")\n",
    "\n",
    "# Create DataFrame\n",
    "metrics_df_ns = pd.DataFrame({\n",
    "    \"Label\": labels,  # Full citation information\n",
    "    \"Degree\": dict(ns.degree()),\n",
    "    \"Degree Centrality\": degree_centrality,\n",
    "    \"Betweenness Centrality\": betweenness_centrality,\n",
    "    \"Closeness Centrality\": closeness_centrality,\n",
    "    \"Eigenvector Centrality\": eigenvector_centrality\n",
    "})\n",
    "\n",
    "# Save to CSV\n",
    "metrics_df_ns.to_csv(\"NS/NS_Centrality.csv\", index=False)"
   ]
  },
  {
   "cell_type": "code",
   "execution_count": 5,
   "id": "bab56073-7d69-4302-ad82-017ee5cec385",
   "metadata": {},
   "outputs": [],
   "source": [
    "# Load the GraphML file for Journal of Complex Networks (JCN)\n",
    "jcn = nx.read_graphml(\"JCN/514.graphml\")\n",
    "\n",
    "# Compute network statistics\n",
    "num_nodes = jcn.number_of_nodes()\n",
    "num_edges = jcn.number_of_edges()\n",
    "density = nx.density(jcn)\n",
    "avg_degree = sum(dict(jcn.degree()).values()) / num_nodes\n",
    "max_degree = max(dict(jcn.degree()).values())\n",
    "min_degree = min(dict(jcn.degree()).values())\n",
    "clustering_coeff = nx.average_clustering(jcn.to_undirected())\n",
    "\n",
    "# Check if the graph is connected\n",
    "is_connected = nx.is_connected(jcn.to_undirected())\n",
    "\n",
    "# Compute centrality measures\n",
    "degree_centrality = nx.degree_centrality(jcn)\n",
    "betweenness_centrality = nx.betweenness_centrality(jcn)\n",
    "closeness_centrality = nx.closeness_centrality(jcn)\n",
    "eigenvector_centrality = nx.eigenvector_centrality(jcn, max_iter=1000)\n",
    "\n",
    "# Extract node attributes\n",
    "labels = nx.get_node_attributes(jcn, \"label\")\n",
    "\n",
    "# Create DataFrame\n",
    "metrics_df_jcn = pd.DataFrame({\n",
    "    \"Label\": labels,  # Full citation information\n",
    "    \"Degree\": dict(jcn.degree()),\n",
    "    \"Degree Centrality\": degree_centrality,\n",
    "    \"Betweenness Centrality\": betweenness_centrality,\n",
    "    \"Closeness Centrality\": closeness_centrality,\n",
    "    \"Eigenvector Centrality\": eigenvector_centrality\n",
    "})\n",
    "\n",
    "# Save to CSV\n",
    "metrics_df_jcn.to_csv(\"JCN/JCN_Centrality.csv\", index=False)"
   ]
  },
  {
   "cell_type": "code",
   "execution_count": 6,
   "id": "8d19644c-6583-40bc-99ee-cde926a46e4c",
   "metadata": {},
   "outputs": [],
   "source": [
    "# Define sorting criteria (Degree, Betweenness Centrality, Closeness Centrality, and Eigenvector Centrality)\n",
    "sorting_criteria = [ \"Betweenness Centrality\", \"Closeness Centrality\", \"Eigenvector Centrality\"]\n",
    "\n",
    "# Sort each DataFrame based on the selected criteria in descending order\n",
    "metrics_df_sn_sorted = metrics_df_sn.sort_values(by=sorting_criteria, ascending=[False, False, False])\n",
    "metrics_df_ns_sorted = metrics_df_ns.sort_values(by=sorting_criteria, ascending=[False, False, False])\n",
    "metrics_df_jcn_sorted = metrics_df_jcn.sort_values(by=sorting_criteria, ascending=[False, False, False])"
   ]
  },
  {
   "cell_type": "code",
   "execution_count": 7,
   "id": "dcebdf31-2de3-4684-806b-8512c586f070",
   "metadata": {},
   "outputs": [],
   "source": [
    "top_10_sn = metrics_df_sn_sorted.iloc[:10,].copy()\n",
    "top_10_sn.reset_index(drop=True, inplace=True)\n",
    "top_10_ns = metrics_df_ns_sorted.iloc[:10,].copy()\n",
    "top_10_ns.reset_index(drop=True, inplace=True)\n",
    "top_10_jcn = metrics_df_jcn.iloc[:10,].copy()\n",
    "top_10_jcn.reset_index(drop=True, inplace=True)\n",
    "top_10_sn[\"Journal\"] = \"Social Networks\"\n",
    "top_10_ns[\"Journal\"] = \"Network Science\"\n",
    "top_10_jcn[\"Journal\"] = \"Journal of Complex Networks\""
   ]
  },
  {
   "cell_type": "code",
   "execution_count": 8,
   "id": "2c8158c3-5817-4742-8c64-14089d4f6f35",
   "metadata": {},
   "outputs": [],
   "source": [
    "merged_df = pd.concat([top_10_sn, top_10_ns, top_10_jcn], ignore_index=True)"
   ]
  },
  {
   "cell_type": "code",
   "execution_count": 9,
   "id": "d1d24d2e-38e0-410c-b933-503010ce6669",
   "metadata": {},
   "outputs": [
    {
     "name": "stdout",
     "output_type": "stream",
     "text": [
      "\\begin{table}\n",
      "\\caption{Top 10 Publication with Highest Centrality}\n",
      "\\label{table.tab6}\n",
      "\\begin{tabular}{lrrrrrl}\n",
      "\\toprule\n",
      "Label & Degree & Degree Centrality & Betweenness Centrality & Closeness Centrality & Eigenvector Centrality & Journal \\\\\n",
      "\\midrule\n",
      "Scott J, 2017, SOCIAL NETWORK ANALYSIS, V0, P0 & 12 & 0.007335 & 0.239656 & 0.156274 & 0.000088 & Social Networks \\\\\n",
      "BORGATTI SP, 1992, SOC NETWORKS, V14, P91, DOI 10.1016/0378-8733(92)90015-Y & 8 & 0.004890 & 0.178918 & 0.142706 & 0.000465 & Social Networks \\\\\n",
      "Block P, 2015, SOC NETWORKS, V40, P163, DOI 10.1016/j.socnet.2014.10.005 & 24 & 0.014670 & 0.108329 & 0.141205 & 0.000058 & Social Networks \\\\\n",
      "Wang P, 2013, SOC NETWORKS, V35, P96, DOI 10.1016/j.socnet.2013.01.004 & 24 & 0.014670 & 0.094689 & 0.154768 & 0.000206 & Social Networks \\\\\n",
      "Wasserman S, 1994, SOCIAL NETWORK ANAL, V0, P0 & 26 & 0.015892 & 0.079835 & 0.143585 & 0.000021 & Social Networks \\\\\n",
      "BURT RS, 1987, AM J SOCIOL, V92, P1287, DOI 10.1086/228667 & 24 & 0.014670 & 0.077956 & 0.109768 & 0.013629 & Social Networks \\\\\n",
      "Zappa P, 2015, ORGAN RES METHODS, V18, P542, DOI 10.1177/1094428115579225 & 18 & 0.011002 & 0.073588 & 0.153603 & 0.000134 & Social Networks \\\\\n",
      "DOREIAN P, 1987, SOC NETWORKS, V9, P89, DOI 10.1016/0378-8733(87)90008-6 & 17 & 0.010391 & 0.072486 & 0.120457 & 0.002516 & Social Networks \\\\\n",
      "BURT RS, 1983, APPLIED NETWORK ANAL, V0, P0 & 25 & 0.015281 & 0.071772 & 0.101817 & 0.039599 & Social Networks \\\\\n",
      "Burt RS, 1992, STRUCTURAL HOLES, V0, P0 & 17 & 0.010391 & 0.068141 & 0.134295 & 0.000098 & Social Networks \\\\\n",
      "Snijders TAB, 2017, ANNU REV STAT APPL, V4, P343, DOI 10.1146/annurev-statistics-060116-054035 & 8 & 0.020833 & 0.066634 & 0.088163 & 0.000004 & Network Science \\\\\n",
      "Block P, 2015, SOC NETWORKS, V40, P163, DOI 10.1016/j.socnet.2014.10.005 & 10 & 0.026042 & 0.066090 & 0.081605 & 0.000002 & Network Science \\\\\n",
      "Amati V, 2019, SOC NETWORKS, V57, P18, DOI 10.1016/j.socnet.2018.10.001 & 20 & 0.052083 & 0.058764 & 0.091121 & 0.000015 & Network Science \\\\\n",
      "Lomi A, 2012, SOC NETWORKS, V34, P101, DOI 10.1016/j.socnet.2010.10.005 & 9 & 0.023438 & 0.054830 & 0.074176 & 0.000007 & Network Science \\\\\n",
      "Leenders RTAJ, 2016, ORGAN PSYCHOL REV, V6, P92, DOI 10.1177/2041386615578312 & 5 & 0.013021 & 0.045654 & 0.084257 & 0.000003 & Network Science \\\\\n",
      "Brashears ME, 2018, SOC NETWORKS, V55, P104, DOI 10.1016/j.socnet.2018.05.010 & 6 & 0.015625 & 0.045566 & 0.078896 & 0.000000 & Network Science \\\\\n",
      "Bakshy E, 2015, SCIENCE, V348, P1130, DOI 10.1126/science.aaa1160 & 6 & 0.015625 & 0.036677 & 0.060877 & 0.000000 & Network Science \\\\\n",
      "Valente TW, 2012, SCIENCE, V337, P49, DOI 10.1126/science.1217330 & 13 & 0.033854 & 0.029537 & 0.065944 & 0.000007 & Network Science \\\\\n",
      "Salehi M, 2015, IEEE T NETW SCI ENG, V2, P65, DOI 10.1109/TNSE.2015.2425961 & 9 & 0.023438 & 0.026723 & 0.054533 & 0.000001 & Network Science \\\\\n",
      "Elmer T, 2019, BEHAV RES METHODS, V51, P2120, DOI 10.3758/s13428-018-1180-y & 10 & 0.026042 & 0.026261 & 0.087756 & 0.000004 & Network Science \\\\\n",
      "Boccaletti S, 2023, PHYS REP, V1018, P1, DOI 10.1016/j.physrep.2023.04.002 & 0 & 0.000000 & 0.000000 & 0.000000 & 0.000000 & Journal of Complex Networks \\\\\n",
      "Allen-Perkins A, 2019, J STAT MECH-THEORY E, V2019, P0, DOI 10.1088/1742-5468/ab5700 & 3 & 0.005848 & 0.000000 & 0.131349 & 0.000047 & Journal of Complex Networks \\\\\n",
      "Miklós I, 2013, ELECTRON J COMB, V20, P0 & 2 & 0.003899 & 0.002155 & 0.077071 & 0.000000 & Journal of Complex Networks \\\\\n",
      "BORGATTI SP, 2011, ORGAN SCI, V22, P1168, DOI 10.1287/orsc.1100.0641 & 2 & 0.003899 & 0.000000 & 0.104677 & 0.000025 & Journal of Complex Networks \\\\\n",
      "Virtanen P, 2020, NAT METHODS, V17, P261, DOI 10.1038/s41592-019-0686-2 & 1 & 0.001949 & 0.000000 & 0.001949 & 0.000000 & Journal of Complex Networks \\\\\n",
      "Andjelkovic M, 2020, SCI REP-UK, V10, P0, DOI 10.1038/s41598-020-74392-3 & 7 & 0.013645 & 0.000013 & 0.080586 & 0.000000 & Journal of Complex Networks \\\\\n",
      "Rattana P, 2013, B MATH BIOL, V75, P466, DOI 10.1007/s11538-013-9816-7 & 1 & 0.001949 & 0.000000 & 0.002599 & 0.000000 & Journal of Complex Networks \\\\\n",
      "Nyberg A, 2015, J COMPLEX NETW, V3, P543, DOI 10.1093/comnet/cnv004 & 2 & 0.003899 & 0.000000 & 0.003899 & 0.000000 & Journal of Complex Networks \\\\\n",
      "van der Hofstad R, 2017, PHYS REV E, V95, P0, DOI 10.1103/PhysRevE.95.022307 & 2 & 0.003899 & 0.000000 & 0.003899 & 0.000000 & Journal of Complex Networks \\\\\n",
      "Asztalos A, 2012, EUR PHYS J B, V85, P0, DOI 10.1140/epjb/e2012-30122-3 & 1 & 0.001949 & 0.000000 & 0.119835 & 0.000093 & Journal of Complex Networks \\\\\n",
      "\\bottomrule\n",
      "\\end{tabular}\n",
      "\\end{table}\n",
      "\n"
     ]
    }
   ],
   "source": [
    "print(merged_df.to_latex(index=False, label=\"table.tab6\", caption=\"Top 10 Publication with Highest Centrality\"))"
   ]
  }
 ],
 "metadata": {
  "kernelspec": {
   "display_name": "Python 3 (ipykernel)",
   "language": "python",
   "name": "python3"
  },
  "language_info": {
   "codemirror_mode": {
    "name": "ipython",
    "version": 3
   },
   "file_extension": ".py",
   "mimetype": "text/x-python",
   "name": "python",
   "nbconvert_exporter": "python",
   "pygments_lexer": "ipython3",
   "version": "3.12.3"
  }
 },
 "nbformat": 4,
 "nbformat_minor": 5
}
