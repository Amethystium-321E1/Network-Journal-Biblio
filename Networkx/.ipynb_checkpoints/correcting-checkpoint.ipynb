{
 "cells": [
  {
   "cell_type": "code",
   "execution_count": 13,
   "id": "dfa14582-bbac-4021-a84f-063c68179399",
   "metadata": {},
   "outputs": [
    {
     "name": "stdout",
     "output_type": "stream",
     "text": [
      "Fixed GML file saved as: SN/social_network_corrected.gml\n"
     ]
    }
   ],
   "source": [
    "import re\n",
    "\n",
    "# Define the path to the GML file\n",
    "input_gml = \"SN/social_network_fixed.gml\"\n",
    "output_gml = \"SN/social_network_corrected.gml\"\n",
    "\n",
    "def fix_gml_file(input_file, output_file):\n",
    "    try:\n",
    "        with open(input_file, \"r\", encoding=\"utf-8\") as f:\n",
    "            lines = f.readlines()\n",
    "\n",
    "        fixed_lines = []\n",
    "        for line in lines:\n",
    "            # Ensure all string values with spaces are enclosed in quotes\n",
    "            line = re.sub(r'(\\w+)\\s+(\"[^\"]*\")', r'\\1 \\2', line)  # Ensures correct spacing\n",
    "\n",
    "            # Handle cases where lists do not close properly\n",
    "            if \" [\" in line and not line.strip().endswith(\"]\"):\n",
    "                line = line.strip() + \" ]\"\n",
    "\n",
    "            fixed_lines.append(line)\n",
    "\n",
    "        # Write the corrected file\n",
    "        with open(output_file, \"w\", encoding=\"utf-8\") as f:\n",
    "            f.writelines(fixed_lines)\n",
    "\n",
    "        print(f\"Fixed GML file saved as: {output_file}\")\n",
    "    except Exception as e:\n",
    "        print(f\"Error fixing GML file: {e}\")\n",
    "\n",
    "# Run the fixer\n",
    "fix_gml_file(input_gml, output_gml)\n"
   ]
  }
 ],
 "metadata": {
  "kernelspec": {
   "display_name": "Python 3 (ipykernel)",
   "language": "python",
   "name": "python3"
  },
  "language_info": {
   "codemirror_mode": {
    "name": "ipython",
    "version": 3
   },
   "file_extension": ".py",
   "mimetype": "text/x-python",
   "name": "python",
   "nbconvert_exporter": "python",
   "pygments_lexer": "ipython3",
   "version": "3.12.3"
  }
 },
 "nbformat": 4,
 "nbformat_minor": 5
}
