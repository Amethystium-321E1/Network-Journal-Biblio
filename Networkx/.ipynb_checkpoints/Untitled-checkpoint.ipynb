{
 "cells": [
  {
   "cell_type": "code",
   "execution_count": 1,
   "id": "25f2c3f8-d7d0-4698-9052-5afbfdefe285",
   "metadata": {},
   "outputs": [],
   "source": [
    "import os\n",
    "import networkx as nx\n",
    "import matplotlib.pyplot as plt\n",
    "import pandas as pd"
   ]
  },
  {
   "cell_type": "code",
   "execution_count": 2,
   "id": "c8c7e515-4b25-461d-86e1-14fd7f9675b2",
   "metadata": {},
   "outputs": [
    {
     "data": {
      "text/plain": [
       "{'name': 'Caimo A',\n",
       " 'label': 'Caimo A, 2013, SOC NETWORKS, V35, P11, DOI 10.1016/j.socnet.2012.10.003',\n",
       " 'author': 'Caimo A',\n",
       " 'year': '2013',\n",
       " 'title': '...',\n",
       " 'so': 'SOC NETWORKS',\n",
       " 'vol': '35',\n",
       " 'pg': '11',\n",
       " 'freq': 2}"
      ]
     },
     "execution_count": 2,
     "metadata": {},
     "output_type": "execute_result"
    }
   ],
   "source": [
    "sn = nx.read_graphml(\"SN/1637.graphml\")\n",
    "sn.nodes[\"0\"]"
   ]
  },
  {
   "cell_type": "code",
   "execution_count": 3,
   "id": "ad223305-2a20-4827-8dd0-ce2a5ba15617",
   "metadata": {},
   "outputs": [],
   "source": [
    "# Load the GraphML file\n",
    "sn = nx.read_graphml(\"SN/1637.graphml\")\n",
    "\n",
    "# Compute network statistics\n",
    "num_nodes = sn.number_of_nodes()\n",
    "num_edges = sn.number_of_edges()\n",
    "density = nx.density(sn)\n",
    "avg_degree = sum(dict(sn.degree()).values()) / num_nodes\n",
    "max_degree = max(dict(sn.degree()).values())\n",
    "min_degree = min(dict(sn.degree()).values())\n",
    "clustering_coeff = nx.average_clustering(sn.to_undirected())\n",
    "\n",
    "# Check if the graph is connected\n",
    "is_connected = nx.is_connected(sn.to_undirected())\n",
    "\n",
    "# Compute centrality measures\n",
    "degree_centrality = nx.degree_centrality(sn)\n",
    "betweenness_centrality = nx.betweenness_centrality(sn)\n",
    "closeness_centrality = nx.closeness_centrality(sn)\n",
    "eigenvector_centrality = nx.eigenvector_centrality(sn, max_iter=1000)\n",
    "\n",
    "# Extract node attributes\n",
    "labels = nx.get_node_attributes(sn, \"label\")\n",
    "\n",
    "# Create DataFrame\n",
    "metrics_df_sn = pd.DataFrame({\n",
    "    \"Label\": labels,  # Full citation information\n",
    "    \"Degree\": dict(sn.degree()),\n",
    "    \"Degree Centrality\": degree_centrality,\n",
    "    \"Betweenness Centrality\": betweenness_centrality,\n",
    "    \"Closeness Centrality\": closeness_centrality,\n",
    "    \"Eigenvector Centrality\": eigenvector_centrality\n",
    "})\n",
    "metrics_df_sn.to_csv(\"SN/SN_Centrality.csv\", index=False)\n"
   ]
  },
  {
   "cell_type": "code",
   "execution_count": 4,
   "id": "4b7ac0bc-27ea-4f28-8e84-4c5fcb4547a1",
   "metadata": {},
   "outputs": [],
   "source": [
    "# Load the GraphML file for Network Science\n",
    "ns = nx.read_graphml(\"NS/385.graphml\")\n",
    "\n",
    "# Compute network statistics\n",
    "num_nodes = ns.number_of_nodes()\n",
    "num_edges = ns.number_of_edges()\n",
    "density = nx.density(ns)\n",
    "avg_degree = sum(dict(ns.degree()).values()) / num_nodes\n",
    "max_degree = max(dict(ns.degree()).values())\n",
    "min_degree = min(dict(ns.degree()).values())\n",
    "clustering_coeff = nx.average_clustering(ns.to_undirected())\n",
    "\n",
    "# Check if the graph is connected\n",
    "is_connected = nx.is_connected(ns.to_undirected())\n",
    "\n",
    "# Compute centrality measures\n",
    "degree_centrality = nx.degree_centrality(ns)\n",
    "betweenness_centrality = nx.betweenness_centrality(ns)\n",
    "closeness_centrality = nx.closeness_centrality(ns)\n",
    "eigenvector_centrality = nx.eigenvector_centrality(ns, max_iter=1000)\n",
    "\n",
    "# Extract node attributes\n",
    "labels = nx.get_node_attributes(ns, \"label\")\n",
    "\n",
    "# Create DataFrame\n",
    "metrics_df_ns = pd.DataFrame({\n",
    "    \"Label\": labels,  # Full citation information\n",
    "    \"Degree\": dict(ns.degree()),\n",
    "    \"Degree Centrality\": degree_centrality,\n",
    "    \"Betweenness Centrality\": betweenness_centrality,\n",
    "    \"Closeness Centrality\": closeness_centrality,\n",
    "    \"Eigenvector Centrality\": eigenvector_centrality\n",
    "})\n",
    "\n",
    "# Save to CSV\n",
    "metrics_df_ns.to_csv(\"NS/NS_Centrality.csv\", index=False)"
   ]
  },
  {
   "cell_type": "code",
   "execution_count": 5,
   "id": "bab56073-7d69-4302-ad82-017ee5cec385",
   "metadata": {},
   "outputs": [],
   "source": [
    "# Load the GraphML file for Journal of Complex Networks (JCN)\n",
    "jcn = nx.read_graphml(\"JCN/514.graphml\")\n",
    "\n",
    "# Compute network statistics\n",
    "num_nodes = jcn.number_of_nodes()\n",
    "num_edges = jcn.number_of_edges()\n",
    "density = nx.density(jcn)\n",
    "avg_degree = sum(dict(jcn.degree()).values()) / num_nodes\n",
    "max_degree = max(dict(jcn.degree()).values())\n",
    "min_degree = min(dict(jcn.degree()).values())\n",
    "clustering_coeff = nx.average_clustering(jcn.to_undirected())\n",
    "\n",
    "# Check if the graph is connected\n",
    "is_connected = nx.is_connected(jcn.to_undirected())\n",
    "\n",
    "# Compute centrality measures\n",
    "degree_centrality = nx.degree_centrality(jcn)\n",
    "betweenness_centrality = nx.betweenness_centrality(jcn)\n",
    "closeness_centrality = nx.closeness_centrality(jcn)\n",
    "eigenvector_centrality = nx.eigenvector_centrality(jcn, max_iter=1000)\n",
    "\n",
    "# Extract node attributes\n",
    "labels = nx.get_node_attributes(jcn, \"label\")\n",
    "\n",
    "# Create DataFrame\n",
    "metrics_df_jcn = pd.DataFrame({\n",
    "    \"Label\": labels,  # Full citation information\n",
    "    \"Degree\": dict(jcn.degree()),\n",
    "    \"Degree Centrality\": degree_centrality,\n",
    "    \"Betweenness Centrality\": betweenness_centrality,\n",
    "    \"Closeness Centrality\": closeness_centrality,\n",
    "    \"Eigenvector Centrality\": eigenvector_centrality\n",
    "})\n",
    "\n",
    "# Save to CSV\n",
    "metrics_df_jcn.to_csv(\"JCN/JCN_Centrality.csv\", index=False)"
   ]
  },
  {
   "cell_type": "code",
   "execution_count": 6,
   "id": "8d19644c-6583-40bc-99ee-cde926a46e4c",
   "metadata": {},
   "outputs": [],
   "source": [
    "# Define sorting criteria (Degree, Betweenness Centrality, Closeness Centrality, and Eigenvector Centrality)\n",
    "sorting_criteria = [\"Degree\", \"Betweenness Centrality\", \"Closeness Centrality\", \"Eigenvector Centrality\"]\n",
    "\n",
    "# Sort each DataFrame based on the selected criteria in descending order\n",
    "metrics_df_sn_sorted = metrics_df_sn.sort_values(by=sorting_criteria, ascending=[False, False, False, False])\n",
    "metrics_df_ns_sorted = metrics_df_ns.sort_values(by=sorting_criteria, ascending=[False, False, False, False])\n",
    "metrics_df_jcn_sorted = metrics_df_jcn.sort_values(by=sorting_criteria, ascending=[False, False, False, False])"
   ]
  },
  {
   "cell_type": "code",
   "execution_count": 15,
   "id": "dcebdf31-2de3-4684-806b-8512c586f070",
   "metadata": {},
   "outputs": [],
   "source": [
    "top_10_sn = metrics_df_sn_sorted.iloc[:10,].copy()\n",
    "top_10_ns = metrics_df_ns_sorted.iloc[:10,].copy()\n",
    "top_10_jcn = metrics_df_jcn.iloc[:10,].copy()"
   ]
  },
  {
   "cell_type": "code",
   "execution_count": null,
   "id": "2c8158c3-5817-4742-8c64-14089d4f6f35",
   "metadata": {},
   "outputs": [],
   "source": [
    "top_10_sn.to_latex()"
   ]
  }
 ],
 "metadata": {
  "kernelspec": {
   "display_name": "Python 3 (ipykernel)",
   "language": "python",
   "name": "python3"
  },
  "language_info": {
   "codemirror_mode": {
    "name": "ipython",
    "version": 3
   },
   "file_extension": ".py",
   "mimetype": "text/x-python",
   "name": "python",
   "nbconvert_exporter": "python",
   "pygments_lexer": "ipython3",
   "version": "3.12.3"
  }
 },
 "nbformat": 4,
 "nbformat_minor": 5
}
